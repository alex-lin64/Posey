{
 "cells": [
  {
   "cell_type": "markdown",
   "metadata": {},
   "source": [
    "### Install and Import Dependencies"
   ]
  },
  {
   "cell_type": "code",
   "execution_count": 1,
   "metadata": {},
   "outputs": [],
   "source": [
    "import mediapipe as mp\n",
    "from tensorflow import keras\n",
    "import tensorflow as tf\n",
    "import numpy as np\n",
    "import cv2\n",
    "import csv\n",
    "import pandas as pd\n",
    "import os\n",
    "from matplotlib import pyplot as plt"
   ]
  },
  {
   "cell_type": "markdown",
   "metadata": {},
   "source": [
    "The 33 keypoints are in order\n",
    "\n",
    "0 - nose \\\n",
    "1 - left eye (inner) \\\n",
    "2 - left eye \\\n",
    "3 - left eye (outer) \\\n",
    "4 - right eye (inner) \\\n",
    "5 - right eye \\\n",
    "6 - right eye (outer) \\\n",
    "7 - left ear \\\n",
    "8 - right ear \\\n",
    "9 - mouth (left) \\\n",
    "10 - mouth (right) \\\n",
    "11 - left shoulder \\\n",
    "12 - right shoulder \\\n",
    "13 - left elbow \\\n",
    "14 - right elbow \\\n",
    "15 - left wrist \\\n",
    "16 - right wrist \\\n",
    "17 - left pinky \\\n",
    "18 - right pinky \\\n",
    "19 - left index \\\n",
    "20 - right index \\\n",
    "21 - left thumb \\\n",
    "22 - right thumb \\\n",
    "23 - left hip \\\n",
    "24 - right hip \\\n",
    "25 - left knee \\\n",
    "26 - right knee \\\n",
    "27 - left ankle \\\n",
    "28 - right ankle \\\n",
    "29 - left heel \\\n",
    "30 - right heel \\\n",
    "31 - left foot index \\\n",
    "32 - right foot index "
   ]
  },
  {
   "cell_type": "markdown",
   "metadata": {},
   "source": [
    "For squat detection, we don't need to the keypoints 1, 3, 4, and 5 (too much info about eyes), \\\n",
    "9 and 10 (don't need to know mouth position), and 17-22 (info about fingers too detailed, only \\\n",
    "need wrist keypoints)"
   ]
  },
  {
   "cell_type": "markdown",
   "metadata": {},
   "source": [
    "### Capture Keypoints to CSV"
   ]
  },
  {
   "cell_type": "code",
   "execution_count": 2,
   "metadata": {},
   "outputs": [],
   "source": [
    "def capture_pose(keypoints, filepath, classification):\n",
    "    \"\"\"\n",
    "    Cleans keypoints data, writes file to csv.  \n",
    "\n",
    "    :params:\n",
    "        - keypoints: landmark obj of all 33 keypoints w/ x, y, z, and visibility, \n",
    "            already normalized\n",
    "        - filepath: path of csv file to write to\n",
    "        - classification: 1 if up position, 0 if down position\n",
    "    \"\"\"\n",
    "    # clean up unwanted keypoints\n",
    "    keypoints = keypoints[:1] + keypoints[2:3] + keypoints[6:9] + keypoints[11:17] + keypoints[23:33]\n",
    "    # flatten to 1d vector\n",
    "    cleaned_kp = np.array([[x.x, x.y, x.z] for x in keypoints], dtype=\"float64\").flatten() \n",
    "    cleaned_kp = np.append(cleaned_kp, classification)\n",
    "    cleaned_kp = cleaned_kp.reshape(1, len(cleaned_kp))\n",
    "    df = pd.DataFrame(cleaned_kp)\n",
    "\n",
    "    # write data to cvs\n",
    "    file_exists = os.path.isfile(filepath)\n",
    "    if not file_exists:\n",
    "        df.to_csv(filepath, index=False)\n",
    "    else:\n",
    "        df.to_csv(filepath, mode='a', index=False, header=False)"
   ]
  },
  {
   "cell_type": "markdown",
   "metadata": {},
   "source": [
    "### Capture Data to CSV"
   ]
  },
  {
   "cell_type": "code",
   "execution_count": 19,
   "metadata": {},
   "outputs": [],
   "source": [
    "mp_drawing = mp.solutions.drawing_utils\n",
    "mp_pose = mp.solutions.pose\n",
    "\n",
    "# starts video capture on video\n",
    "cap = cv2.VideoCapture('data\\\\test_videos\\\\squat_test_1.mov')\n",
    "csv_filepath = \"data\\\\test_csv\\\\squat_data_test_1.csv\"\n",
    "\n",
    "# runs mediapipe pose detection\n",
    "with mp_pose.Pose(min_detection_confidence=0.5, min_tracking_confidence=0.5) as pose:\n",
    "    while cap.isOpened():\n",
    "        ret, frame = cap.read()\n",
    "        \n",
    "        # changing display colors\n",
    "        frame = cv2.cvtColor(frame, cv2.COLOR_BGR2RGB)\n",
    "        frame.flags.writeable = False\n",
    "        results = pose.process(frame)\n",
    "        frame = cv2.cvtColor(frame, cv2.COLOR_RGB2BGR)\n",
    "\n",
    "        mp_drawing.draw_landmarks(\n",
    "            frame,\n",
    "            results.pose_landmarks, \n",
    "            mp_pose.POSE_CONNECTIONS,\n",
    "            mp_drawing.DrawingSpec(color=(245,117,66), thickness=2, circle_radius=4),\n",
    "            mp_drawing.DrawingSpec(color=(245,66,230), thickness=2, circle_radius=2)\n",
    "            )\n",
    "\n",
    "        cv2.imshow(\"Webcam Feed\", frame)\n",
    "\n",
    "        k = cv2.waitKey(1)\n",
    "        if k == ord('u'):\n",
    "            # captures keypoints for up position\n",
    "            capture_pose(results.pose_landmarks.landmark, csv_filepath, 1)\n",
    "        elif k == ord('d'):\n",
    "            # captures keypoints for down position\n",
    "            capture_pose(results.pose_landmarks.landmark, csv_filepath, 0)\n",
    "        elif k == ord('q'):\n",
    "            break\n",
    "\n",
    "cap.release()\n",
    "cv2.destroyAllWindows()"
   ]
  },
  {
   "cell_type": "markdown",
   "metadata": {},
   "source": [
    "### Load CSV Data"
   ]
  },
  {
   "cell_type": "code",
   "execution_count": 11,
   "metadata": {},
   "outputs": [],
   "source": [
    "def split_train_test(csv_filepath):\n",
    "    \"\"\"\n",
    "    Splits a testing csv dataset into 80/20 split of testing/validation\n",
    "\n",
    "    :params:\n",
    "        - csv_filepath: path to csv file\n",
    "\n",
    "    :returns:\n",
    "        - X_train: pandas df for training, datapoints\n",
    "        - x_val: pandas df for training, class labels\n",
    "        - Y_train:pandas df for validation, datapoints\n",
    "        - y_val: pandas df for validation, class labels\n",
    "    \"\"\"\n",
    "    # create df from data\n",
    "    squat_df = pd.read_csv(csv_filepath)\n",
    "    # split data into train and val\n",
    "    squat_df['split'] = np.random.randn(squat_df.shape[0], 1)\n",
    "    mask = np.random.rand(len(squat_df)) <= 0.8\n",
    "\n",
    "    # training dataset\n",
    "    X_train = squat_df[mask].astype('float64')\n",
    "    X_val = squat_df[~mask].astype('float64')\n",
    "    # corresponding labels\n",
    "    y_train = keras.utils.to_categorical(X_train.pop('63'))\n",
    "    y_val = keras.utils.to_categorical(X_val.pop('63'))\n",
    "    # pop_off_split\n",
    "    X_train.pop('split')\n",
    "    X_val.pop('split')\n",
    "\n",
    "    return X_train, y_train, X_val, y_val\n",
    "\n",
    "def landmarks_to_embedding(landmarks):\n",
    "    \"\"\"\n",
    "    Converts input landarks to pose embedding\n",
    "\n",
    "    :params:\n",
    "        - landmarks: pandas df of the landmarks of dim (21, 3)\n",
    "\n",
    "    :returns:\n",
    "        - The landmarks as an embedded vector of dim (51)\n",
    "    \"\"\"\n",
    "    # reshape into matrix with dims (21, 3)\n",
    "    reshaped_input = keras.layers.Reshape((21, 3))(landmarks)\n",
    "    return keras.layers.Flatten()(reshaped_input)"
   ]
  },
  {
   "cell_type": "markdown",
   "metadata": {},
   "source": [
    "### Define Keras Model"
   ]
  },
  {
   "cell_type": "code",
   "execution_count": 6,
   "metadata": {},
   "outputs": [
    {
     "name": "stdout",
     "output_type": "stream",
     "text": [
      "Model: \"model\"\n",
      "_________________________________________________________________\n",
      "Layer (type)                 Output Shape              Param #   \n",
      "=================================================================\n",
      "input_1 (InputLayer)         [(None, 63)]              0         \n",
      "_________________________________________________________________\n",
      "reshape (Reshape)            (None, 21, 3)             0         \n",
      "_________________________________________________________________\n",
      "flatten (Flatten)            (None, 63)                0         \n",
      "_________________________________________________________________\n",
      "dense (Dense)                (None, 128)               8192      \n",
      "_________________________________________________________________\n",
      "dropout (Dropout)            (None, 128)               0         \n",
      "_________________________________________________________________\n",
      "dense_1 (Dense)              (None, 64)                8256      \n",
      "_________________________________________________________________\n",
      "dropout_1 (Dropout)          (None, 64)                0         \n",
      "_________________________________________________________________\n",
      "dense_2 (Dense)              (None, 2)                 130       \n",
      "=================================================================\n",
      "Total params: 16,578\n",
      "Trainable params: 16,578\n",
      "Non-trainable params: 0\n",
      "_________________________________________________________________\n"
     ]
    }
   ],
   "source": [
    "inputs = tf.keras.Input(shape=(63))\n",
    "embedding = landmarks_to_embedding(inputs)\n",
    "\n",
    "layer = keras.layers.Dense(128, activation=tf.nn.relu6)(embedding)\n",
    "layer = keras.layers.Dropout(0.5)(layer)\n",
    "layer = keras.layers.Dense(64, activation=tf.nn.relu6)(layer)\n",
    "layer = keras.layers.Dropout(0.5)(layer)\n",
    "\n",
    "outputs = keras.layers.Dense(2, activation='softmax')(layer)\n",
    "\n",
    "model = keras.Model(inputs, outputs)\n",
    "model.summary()"
   ]
  },
  {
   "cell_type": "markdown",
   "metadata": {},
   "source": [
    "### Training Model"
   ]
  },
  {
   "cell_type": "code",
   "execution_count": 21,
   "metadata": {},
   "outputs": [],
   "source": [
    "data_filepath = 'data\\\\train_csv\\\\squat_data_train.csv'\n",
    "\n",
    "X_train, y_train, X_val, y_val = split_train_test(data_filepath)"
   ]
  },
  {
   "cell_type": "code",
   "execution_count": 14,
   "metadata": {},
   "outputs": [
    {
     "name": "stdout",
     "output_type": "stream",
     "text": [
      "           0         1         2         3         4         5         6  \\\n",
      "0   0.506229  0.225516 -0.190330  0.515430  0.210960 -0.178518  0.497561   \n",
      "1   0.489759  0.245492 -0.193474  0.498854  0.229044 -0.185031  0.480752   \n",
      "2   0.497190  0.243144 -0.194376  0.507362  0.224543 -0.186312  0.487689   \n",
      "3   0.472895  0.246624 -0.199993  0.481643  0.227537 -0.191916  0.464399   \n",
      "4   0.482362  0.241056 -0.205778  0.492280  0.221377 -0.196339  0.473152   \n",
      "5   0.488574  0.211389 -0.196318  0.498815  0.194972 -0.183349  0.478524   \n",
      "6   0.486801  0.215517 -0.207980  0.497208  0.199310 -0.196121  0.477821   \n",
      "7   0.486938  0.217029 -0.217210  0.497992  0.200290 -0.205057  0.477778   \n",
      "8   0.485597  0.495823 -0.162453  0.496621  0.481257 -0.146747  0.476170   \n",
      "9   0.487875  0.220534 -0.209923  0.498135  0.203582 -0.198508  0.477428   \n",
      "10  0.484520  0.462539 -0.289245  0.494804  0.448670 -0.274923  0.476098   \n",
      "12  0.484080  0.452171 -0.264332  0.494408  0.438094 -0.249510  0.474952   \n",
      "13  0.487309  0.215400 -0.201315  0.497764  0.198221 -0.189065  0.477152   \n",
      "14  0.489723  0.216727 -0.210605  0.500766  0.200782 -0.197089  0.480104   \n",
      "17  0.486609  0.503010 -0.217439  0.496605  0.488933 -0.200456  0.476222   \n",
      "\n",
      "           7         8         9  ...        53        54        55        56  \\\n",
      "0   0.210293 -0.174258  0.522487  ...  0.222322  0.499319  0.808810  0.150887   \n",
      "1   0.229481 -0.179385  0.508378  ...  0.211971  0.499544  0.803902  0.201539   \n",
      "2   0.226089 -0.179095  0.517150  ...  0.111752  0.466989  0.866530  0.136808   \n",
      "3   0.230886 -0.184400  0.494841  ...  0.118391  0.467073  0.869907  0.137669   \n",
      "4   0.223295 -0.187756  0.502376  ...  0.082736  0.466467  0.872107  0.173063   \n",
      "5   0.195659 -0.177927  0.507837  ...  0.116295  0.469239  0.866463  0.173895   \n",
      "6   0.201124 -0.189867  0.507554  ...  0.107046  0.469527  0.868950  0.237722   \n",
      "7   0.202159 -0.198222  0.507723  ...  0.116315  0.469593  0.866630  0.264046   \n",
      "8   0.478841 -0.145323  0.505621  ... -0.064951  0.469978  0.871282 -0.037022   \n",
      "9   0.206303 -0.190838  0.507283  ...  0.120622  0.471134  0.870036  0.239148   \n",
      "10  0.449572 -0.272054  0.505924  ... -0.052449  0.469937  0.871513 -0.035107   \n",
      "12  0.439048 -0.246534  0.504611  ... -0.077146  0.470223  0.872390 -0.070568   \n",
      "13  0.198440 -0.182736  0.506563  ...  0.123517  0.471270  0.870737  0.203945   \n",
      "14  0.201444 -0.191494  0.509842  ...  0.134359  0.472215  0.869310  0.228323   \n",
      "17  0.489228 -0.199901  0.505651  ... -0.046133  0.470191  0.871500 -0.012205   \n",
      "\n",
      "          57        58        59        60        61        62  \n",
      "0   0.541336  0.829115  0.126013  0.495683  0.851069  0.049727  \n",
      "1   0.539239  0.830017  0.113796  0.495635  0.851040  0.107476  \n",
      "2   0.536808  0.905428  0.000451  0.454791  0.905249  0.035538  \n",
      "3   0.539507  0.909798  0.005257  0.453574  0.906945  0.036786  \n",
      "4   0.546446  0.910952 -0.039667  0.453090  0.906367  0.072639  \n",
      "5   0.545485  0.909818 -0.004519  0.451887  0.906506  0.069808  \n",
      "6   0.541210  0.915139 -0.015165  0.451862  0.905246  0.136831  \n",
      "7   0.541147  0.912720 -0.006271  0.452097  0.903347  0.164070  \n",
      "8   0.546052  0.915114 -0.147345  0.451046  0.909661 -0.107690  \n",
      "9   0.541710  0.911199 -0.000352  0.451585  0.906364  0.139049  \n",
      "10  0.546476  0.913616 -0.154057  0.449490  0.906833 -0.121255  \n",
      "12  0.545651  0.914723 -0.183501  0.449630  0.909220 -0.172942  \n",
      "13  0.542954  0.911430  0.005527  0.451464  0.906693  0.103606  \n",
      "14  0.543153  0.913138  0.016538  0.449459  0.907170  0.133894  \n",
      "17  0.546663  0.915385 -0.125317  0.451546  0.910308 -0.090579  \n",
      "\n",
      "[15 rows x 63 columns]\n"
     ]
    }
   ],
   "source": [
    "print(X_train)"
   ]
  },
  {
   "cell_type": "code",
   "execution_count": 15,
   "metadata": {},
   "outputs": [
    {
     "name": "stdout",
     "output_type": "stream",
     "text": [
      "Epoch 1/200\n",
      "1/1 [==============================] - 4s 4s/step - loss: 0.9228 - accuracy: 0.2667 - val_loss: 0.5927 - val_accuracy: 0.7500\n",
      "\n",
      "Epoch 00001: val_accuracy improved from -inf to 0.75000, saving model to model\\weights\\ weights.01-0.59.hdf5\n",
      "Epoch 2/200\n",
      "1/1 [==============================] - 0s 35ms/step - loss: 0.8288 - accuracy: 0.3333 - val_loss: 0.6167 - val_accuracy: 0.7500\n",
      "\n",
      "Epoch 00002: val_accuracy did not improve from 0.75000\n",
      "Epoch 3/200\n",
      "1/1 [==============================] - 0s 38ms/step - loss: 0.7148 - accuracy: 0.4000 - val_loss: 0.6414 - val_accuracy: 0.7500\n",
      "\n",
      "Epoch 00003: val_accuracy did not improve from 0.75000\n",
      "Epoch 4/200\n",
      "1/1 [==============================] - 0s 36ms/step - loss: 0.6760 - accuracy: 0.6000 - val_loss: 0.6672 - val_accuracy: 1.0000\n",
      "\n",
      "Epoch 00004: val_accuracy improved from 0.75000 to 1.00000, saving model to model\\weights\\ weights.04-0.67.hdf5\n",
      "Epoch 5/200\n",
      "1/1 [==============================] - 0s 37ms/step - loss: 0.6790 - accuracy: 0.4000 - val_loss: 0.6918 - val_accuracy: 0.2500\n",
      "\n",
      "Epoch 00005: val_accuracy did not improve from 1.00000\n",
      "Epoch 6/200\n",
      "1/1 [==============================] - 0s 29ms/step - loss: 0.8161 - accuracy: 0.4000 - val_loss: 0.7155 - val_accuracy: 0.2500\n",
      "\n",
      "Epoch 00006: val_accuracy did not improve from 1.00000\n",
      "Epoch 7/200\n",
      "1/1 [==============================] - 0s 29ms/step - loss: 0.7488 - accuracy: 0.5333 - val_loss: 0.7392 - val_accuracy: 0.2500\n",
      "\n",
      "Epoch 00007: val_accuracy did not improve from 1.00000\n",
      "Epoch 8/200\n",
      "1/1 [==============================] - 0s 24ms/step - loss: 0.7710 - accuracy: 0.3333 - val_loss: 0.7645 - val_accuracy: 0.2500\n",
      "\n",
      "Epoch 00008: val_accuracy did not improve from 1.00000\n",
      "Epoch 9/200\n",
      "1/1 [==============================] - 0s 35ms/step - loss: 0.6883 - accuracy: 0.6667 - val_loss: 0.7879 - val_accuracy: 0.2500\n",
      "\n",
      "Epoch 00009: val_accuracy did not improve from 1.00000\n",
      "Epoch 10/200\n",
      "1/1 [==============================] - 0s 32ms/step - loss: 0.7411 - accuracy: 0.6000 - val_loss: 0.8111 - val_accuracy: 0.2500\n",
      "\n",
      "Epoch 00010: val_accuracy did not improve from 1.00000\n",
      "Epoch 11/200\n",
      "1/1 [==============================] - 0s 31ms/step - loss: 0.6552 - accuracy: 0.5333 - val_loss: 0.8314 - val_accuracy: 0.2500\n",
      "\n",
      "Epoch 00011: val_accuracy did not improve from 1.00000\n",
      "Epoch 12/200\n",
      "1/1 [==============================] - 0s 32ms/step - loss: 0.6326 - accuracy: 0.6667 - val_loss: 0.8472 - val_accuracy: 0.2500\n",
      "\n",
      "Epoch 00012: val_accuracy did not improve from 1.00000\n",
      "Epoch 13/200\n",
      "1/1 [==============================] - 0s 36ms/step - loss: 0.6205 - accuracy: 0.6000 - val_loss: 0.8620 - val_accuracy: 0.2500\n",
      "\n",
      "Epoch 00013: val_accuracy did not improve from 1.00000\n",
      "Epoch 14/200\n",
      "1/1 [==============================] - 0s 25ms/step - loss: 0.6815 - accuracy: 0.7333 - val_loss: 0.8737 - val_accuracy: 0.2500\n",
      "\n",
      "Epoch 00014: val_accuracy did not improve from 1.00000\n",
      "Epoch 15/200\n",
      "1/1 [==============================] - 0s 26ms/step - loss: 0.6939 - accuracy: 0.6000 - val_loss: 0.8821 - val_accuracy: 0.2500\n",
      "\n",
      "Epoch 00015: val_accuracy did not improve from 1.00000\n",
      "Epoch 16/200\n",
      "1/1 [==============================] - 0s 43ms/step - loss: 0.5920 - accuracy: 0.7333 - val_loss: 0.8899 - val_accuracy: 0.2500\n",
      "\n",
      "Epoch 00016: val_accuracy did not improve from 1.00000\n",
      "Epoch 17/200\n",
      "1/1 [==============================] - 0s 26ms/step - loss: 0.5837 - accuracy: 0.7333 - val_loss: 0.8961 - val_accuracy: 0.2500\n",
      "\n",
      "Epoch 00017: val_accuracy did not improve from 1.00000\n",
      "Epoch 18/200\n",
      "1/1 [==============================] - 0s 29ms/step - loss: 0.6048 - accuracy: 0.6667 - val_loss: 0.8993 - val_accuracy: 0.2500\n",
      "\n",
      "Epoch 00018: val_accuracy did not improve from 1.00000\n",
      "Epoch 19/200\n",
      "1/1 [==============================] - 0s 31ms/step - loss: 0.5816 - accuracy: 0.8000 - val_loss: 0.9022 - val_accuracy: 0.2500\n",
      "\n",
      "Epoch 00019: val_accuracy did not improve from 1.00000\n",
      "Epoch 20/200\n",
      "1/1 [==============================] - 0s 30ms/step - loss: 0.4837 - accuracy: 0.8000 - val_loss: 0.9046 - val_accuracy: 0.2500\n",
      "\n",
      "Epoch 00020: val_accuracy did not improve from 1.00000\n",
      "Epoch 21/200\n",
      "1/1 [==============================] - 0s 24ms/step - loss: 0.5519 - accuracy: 0.7333 - val_loss: 0.9058 - val_accuracy: 0.2500\n",
      "\n",
      "Epoch 00021: val_accuracy did not improve from 1.00000\n",
      "Epoch 22/200\n",
      "1/1 [==============================] - 0s 23ms/step - loss: 0.5911 - accuracy: 0.8000 - val_loss: 0.9019 - val_accuracy: 0.2500\n",
      "\n",
      "Epoch 00022: val_accuracy did not improve from 1.00000\n",
      "Epoch 23/200\n",
      "1/1 [==============================] - 0s 30ms/step - loss: 0.6535 - accuracy: 0.6667 - val_loss: 0.8996 - val_accuracy: 0.2500\n",
      "\n",
      "Epoch 00023: val_accuracy did not improve from 1.00000\n",
      "Epoch 24/200\n",
      "1/1 [==============================] - 0s 30ms/step - loss: 0.6039 - accuracy: 0.6667 - val_loss: 0.8969 - val_accuracy: 0.2500\n",
      "\n",
      "Epoch 00024: val_accuracy did not improve from 1.00000\n"
     ]
    }
   ],
   "source": [
    "model.compile(\n",
    "    optimizer='adam',\n",
    "    loss='categorical_crossentropy',\n",
    "    metrics=['accuracy']\n",
    ")\n",
    "\n",
    "# checkpoint to store highest validation accuracy\n",
    "checkpoint_path = 'model\\\\weights\\\\ weights.{epoch:02d}-{val_loss:.2f}.hdf5'\n",
    "checkpoint = keras.callbacks.ModelCheckpoint(\n",
    "    filepath=checkpoint_path,\n",
    "    monitor='val_accuracy',\n",
    "    verbose=1,\n",
    "    save_best_only=True,\n",
    "    mode='max'\n",
    ")\n",
    "earlystopping = keras.callbacks.EarlyStopping(\n",
    "    monitor='val_accuracy',\n",
    "    patience=20\n",
    ")\n",
    "\n",
    "# start training\n",
    "history = model.fit(\n",
    "    x=X_train,\n",
    "    y=y_train,\n",
    "    epochs=200,\n",
    "    batch_size=16,\n",
    "    validation_data=(X_val, y_val),\n",
    "    callbacks=[checkpoint, earlystopping]\n",
    ")"
   ]
  },
  {
   "cell_type": "markdown",
   "metadata": {},
   "source": [
    "### Visualize & Analyze Training History"
   ]
  },
  {
   "cell_type": "code",
   "execution_count": 17,
   "metadata": {},
   "outputs": [
    {
     "data": {
      "image/png": "[encoded data removed]",
      "text/plain": [
       "<Figure size 640x480 with 1 Axes>"
      ]
     },
     "metadata": {},
     "output_type": "display_data"
    }
   ],
   "source": [
    "# Visualize loss curves\n",
    "plt.plot(history.history['accuracy'])\n",
    "plt.plot(history.history['val_accuracy'])\n",
    "plt.title('Model Accuracy')\n",
    "plt.ylabel('accuracy')\n",
    "plt.xlabel('epoch')\n",
    "plt.legend(['Train', 'Val'], loc='lower right')\n",
    "plt.show()"
   ]
  },
  {
   "cell_type": "code",
   "execution_count": 20,
   "metadata": {},
   "outputs": [
    {
     "name": "stdout",
     "output_type": "stream",
     "text": [
      "1/1 [==============================] - 0s 18ms/step - loss: 0.6187 - accuracy: 0.6250\n",
      "Loss: 0.6186656355857849\n",
      "Accuracy: 0.625\n"
     ]
    }
   ],
   "source": [
    "# Evaluate with test dataset\n",
    "test_data_csv_path = 'data\\\\test_csv\\\\squat_data_test_1.csv'\n",
    "\n",
    "# create df from data\n",
    "X_test = pd.read_csv(test_data_csv_path)\n",
    "y_test = keras.utils.to_categorical(X_test.pop('63'))\n",
    "\n",
    "loss, accuracy = model.evaluate(X_test, y_test)\n",
    "print(f\"Loss: {loss}\")\n",
    "print(f\"Accuracy: {accuracy}\")"
   ]
  }
 ],
 "metadata": {
  "kernelspec": {
   "display_name": "posey",
   "language": "python",
   "name": "python3"
  },
  "language_info": {
   "codemirror_mode": {
    "name": "ipython",
    "version": 3
   },
   "file_extension": ".py",
   "mimetype": "text/x-python",
   "name": "python",
   "nbconvert_exporter": "python",
   "pygments_lexer": "ipython3",
   "version": "3.9.13"
  },
  "orig_nbformat": 4
 },
 "nbformat": 4,
 "nbformat_minor": 2
}
